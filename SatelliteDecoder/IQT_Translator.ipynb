{
 "cells": [
  {
   "cell_type": "markdown",
   "id": "501127d4-a0e8-42bb-ac4c-0f3eb30bd568",
   "metadata": {},
   "source": [
    "Theo DeGuzman\r",
    " Johns Hopkins University/ IQT24 Senior Design Projec// V2 Prototype Co\n",
    "// Not for production use -- end user assumes responsibility for usage and testing of this \n",
    "\n",
    "\n",
    "Run cells 1-15 first\n",
    "\n",
    "Then run bottom cells, copying relevant values into appropriate cells code\r\n"
   ]
  },
  {
   "cell_type": "code",
   "execution_count": 1,
   "id": "a2a84d00-68a2-45a1-b8c6-9c016e620baf",
   "metadata": {},
   "outputs": [],
   "source": [
    "#consts\n",
    "import binascii\n",
    "\n",
    "\n",
    "START = int(\"FF\", 16)\n",
    "END = int(\"FE\", 16)\n",
    "\n",
    "#define VEHICLE_STATE_VECTOR 0xAB\n",
    "#define VEHICLE_STATE_VECTOR_LENGTH 35\n",
    "#define VEHICLE_BATTERY_VECTOR 0xAB\n",
    "#define VEHICLE_BATTERY_VECTOR_LENGTH 35\n",
    "\n",
    "#define CONTROLLER_STATE 0xAC\n",
    "#define CONTROLLER_STATE_LENGTH 19\n",
    "\n",
    "#define WAYPOINT_LIST 0xAD\n",
    "\n",
    "#define WAYPOINT 0xAE\n",
    "#define WAYPOINT_LENGTH 23\n",
    "\n",
    "#define MODE_CHANGE 0xAF\n",
    "#define MODE_CHANGE_LENGTH 11\n",
    "\n",
    "#define WAYPOINT_REACHED 0xBA\n",
    "#define WAYPOINT_REACHED_LENGTH 27\n",
    "\n",
    "#define MISSION_PARAMS 0xCB\n",
    "#define MISSION_PARAMS_LEN 59\n",
    "\n",
    "\n",
    "#define REQUEST_WAYPOINT_LIST 0xBB\n",
    "REQUEST_WAYPOINT_LIST = int(\"BB\", 16)\n",
    "\n",
    "#define REQUEST_WAYPOINT 0xBC\n",
    "REQUEST_WAYPOINT = int(\"BC\", 16)\n",
    "\n",
    "\n",
    "#define CHANGE_WAYPOINT 0xBD\n",
    "CHANGE_WAYPOINT = int(\"BD\", 16)\n",
    "\n",
    "#define GET_MISSION_PARAMS 0xBE\n",
    "GET_MISSION_PARAMS = int(\"BE\", 16)\n",
    "\n",
    "#define CHANGE_MISSIONS_PARAMS 0xBF\n",
    "CHANGE_MISSIONS_PARAMS = int(\"BF\", 16)\n",
    "\n",
    "#define FORCE_MODE_CHANGE 0xCA\n",
    "FORCE_MODE_CHANGE = int(\"CA\", 16)\n",
    "\n"
   ]
  },
  {
   "cell_type": "code",
   "execution_count": 2,
   "id": "72e2bb1e-596f-4fa2-90d7-43a643e067f1",
   "metadata": {},
   "outputs": [
    {
     "name": "stdout",
     "output_type": "stream",
     "text": [
      "The four-byte integer is: 392524896\n"
     ]
    }
   ],
   "source": [
    "def byteStrToInt(input_string, sign=True):\n",
    "    if len(input_string) != 8:\n",
    "        raise ValueError(\"Input string must be exactly 8 characters long.\")\n",
    "    \n",
    "    bytes_obj = [(int(input_string[0:2], 16)), (int(input_string[2:4], 16)), (int(input_string[4:6], 16)), (int(input_string[6:8], 16))]\n",
    "    final_int = int.from_bytes(bytes_obj, 'little', signed=sign)\n",
    "    return final_int\n",
    "    \n",
    "# Example usage\n",
    "input_string = \"60746517\"  # Example 8-character string\n",
    "result = byteStrToInt(input_string)\n",
    "print(\"The four-byte integer is:\", result)"
   ]
  },
  {
   "cell_type": "code",
   "execution_count": 3,
   "id": "0213f97e-e5a4-49de-a2d5-78cba23cedc7",
   "metadata": {},
   "outputs": [],
   "source": [
    "def unpackStateVector(string):\n",
    "    lat = byteStrToInt(string[4:12])/1E7\n",
    "    lon = byteStrToInt(string[12:20])/1E7\n",
    "    speed = byteStrToInt(string[20:28])/1E3\n",
    "    heading = byteStrToInt(string[28:36])/1E5\n",
    "    pitch = byteStrToInt(string[36:44])/1E5\n",
    "    roll = byteStrToInt(string[44:52])/1E5\n",
    "    turb = byteStrToInt(string[52:60])\n",
    "    pdop = byteStrToInt(string[60:68])/1E2\n",
    "\n",
    "    return [lat, lon, speed, heading, pitch, roll, turb, pdop]\n",
    "    "
   ]
  },
  {
   "cell_type": "code",
   "execution_count": 4,
   "id": "4b28bb46-9f81-4d1c-827e-e2bc132b1b34",
   "metadata": {},
   "outputs": [],
   "source": [
    "def unpackBatteryVector(string):\n",
    "    volts = byteStrToInt(string[4:12])/1E2\n",
    "    amps = byteStrToInt(string[12:20])/1E2\n",
    "    b2 = byteStrToInt(string[20:28])\n",
    "    b3 = byteStrToInt(string[28:36])\n",
    "    b4 = byteStrToInt(string[36:44])\n",
    "    b5 = byteStrToInt(string[44:52])\n",
    "    b6 = byteStrToInt(string[52:60])\n",
    "    b7 = byteStrToInt(string[60:68])\n",
    "\n",
    "    return [volts, amps, b2, b3, b4, b5, b6, b7]\n",
    "    "
   ]
  },
  {
   "cell_type": "code",
   "execution_count": 5,
   "id": "a1f16cd2-38ea-416f-afb5-4320a30b5861",
   "metadata": {},
   "outputs": [],
   "source": [
    "def unpackControllerStateVector(string):\n",
    "    steer = byteStrToInt(string[4:12])\n",
    "    thrust = byteStrToInt(string[12:20])\n",
    "    trim = byteStrToInt(string[20:28])\n",
    "    error = byteStrToInt(string[28:36])\n",
    "\n",
    "    return [steer, thrust, trim, error]\n",
    "    "
   ]
  },
  {
   "cell_type": "code",
   "execution_count": 6,
   "id": "e46d19f1-c3d1-4703-96ba-94ec36579e13",
   "metadata": {},
   "outputs": [],
   "source": [
    "def unpackWaypoint(string):\n",
    "    lat = byteStrToInt(string[4:12])/1E7\n",
    "    lon = byteStrToInt(string[12:20])/1E7\n",
    "    rad = byteStrToInt(string[20:28])\n",
    "    type = byteStrToInt(string[28:36])\n",
    "    ton = byteStrToInt(string[36:44])/1E3\n",
    "\n",
    "    return [lat, lon, rad, type, ton]\n",
    "    "
   ]
  },
  {
   "cell_type": "code",
   "execution_count": 7,
   "id": "80c1fab5-0f91-4c53-a8a3-3ab4ccdd3c53",
   "metadata": {},
   "outputs": [],
   "source": [
    "def unpackWaypointList(string):\n",
    "    list = []\n",
    "    num_wps = int(string[4:6], 16)\n",
    "    for i in range(num_wps):\n",
    "        lat = byteStrToInt(string[(9*i+3)*2:(9*i+7)*2])/1E7\n",
    "        lon = byteStrToInt(string[(9*i+7)*2:(9*i+11)*2])/1E7\n",
    "        type = int(string[(9*i+8)*2:(9*i+8)*2+2], 16)\n",
    "        list.append([lat, lon, type])\n",
    "\n",
    "    return list\n",
    "    "
   ]
  },
  {
   "cell_type": "code",
   "execution_count": 8,
   "id": "e58b46b3-a2ff-431d-bd04-a3e37a62bc44",
   "metadata": {},
   "outputs": [],
   "source": [
    "def unpackMissionParameters(string):\n",
    "    curr_wp = byteStrToInt(string[4:12])\n",
    "    num_wps = byteStrToInt(string[12:20])\n",
    "    tac = byteStrToInt(string[20:28])\n",
    "    cruise_speed = byteStrToInt(string[28:36])\n",
    "    big_p_gain = byteStrToInt(string[36:44])\n",
    "    small_p_gain = byteStrToInt(string[44:52])\n",
    "    steer_i_gain = byteStrToInt(string[52:60])\n",
    "    thrust_p_gain = byteStrToInt(string[60:68])\n",
    "    trans_thresh = byteStrToInt(string[68:76])\n",
    "    rough_sea = byteStrToInt(string[76:84])\n",
    "    brownout_thresh = byteStrToInt(string[84:92])\n",
    "    sat_update = byteStrToInt(string[92:100])\n",
    "    exit_sf_md_time = byteStrToInt(string[100:108])\n",
    "    lead_distance = byteStrToInt(string[108:116])\n",
    "\n",
    "    return [curr_wp, num_wps, tac, cruise_speed, big_p_gain, small_p_gain, thrust_p_gain, trans_thresh, rough_sea, brownout_thresh, sat_update, exit_sf_md_time, lead_distance]\n",
    "    "
   ]
  },
  {
   "cell_type": "code",
   "execution_count": 9,
   "id": "c1984e1e-cdd5-449f-b1ee-267f1ceabaab",
   "metadata": {},
   "outputs": [],
   "source": [
    "# call this to send a request a waypoint list message\n",
    "def packRequestWPList():\n",
    "    return \"FFBBFE\"\n",
    "    \n",
    "    "
   ]
  },
  {
   "cell_type": "code",
   "execution_count": 10,
   "id": "d1ebb6b8-74ee-4dd5-9dcb-db1ab6589df3",
   "metadata": {},
   "outputs": [],
   "source": [
    "# call this to send a request a specific waypoint parameters message\n",
    "def packRequestWP(num):\n",
    "    return \"FFBB\" + str((hex(num))[2:]).zfill(2) + \"FE\"\n",
    "\n",
    "    "
   ]
  },
  {
   "cell_type": "code",
   "execution_count": 11,
   "id": "d3748a24-443c-4cc7-aec1-3b75911e4cfe",
   "metadata": {},
   "outputs": [],
   "source": [
    "def packChangeWaypoint(num, lat, lon, radius, type, tos):\n",
    "    string = \"FFBD\"\n",
    "    string+=str((hex(num))[2:]).zfill(2)\n",
    "    string+=(binascii.hexlify((lat).to_bytes(4, signed=True, byteorder='little')).decode())\n",
    "    string+=(binascii.hexlify((lon).to_bytes(4, signed=True, byteorder='little')).decode())\n",
    "    string+=(binascii.hexlify((radius).to_bytes(4, signed=True, byteorder='little')).decode())\n",
    "    string+=(binascii.hexlify((type).to_bytes(4, signed=True, byteorder='little')).decode())\n",
    "    string+=(binascii.hexlify((tos).to_bytes(4, signed=True, byteorder='little')).decode())\n",
    "    string+=(\"FE\")\n",
    "    return string\n",
    "    "
   ]
  },
  {
   "cell_type": "code",
   "execution_count": 12,
   "id": "1bcbc639-dca6-4702-92f4-3e5397fc46ad",
   "metadata": {},
   "outputs": [],
   "source": [
    "# call this to send a request mission parameters message\n",
    "def packGetMissionParameters():\n",
    "    return \"FFBEFE\"\n",
    "    "
   ]
  },
  {
   "cell_type": "code",
   "execution_count": 13,
   "id": "28d2792e-15ff-4c9c-9dec-cd96a0f1f64a",
   "metadata": {},
   "outputs": [],
   "source": [
    "def packChangeMissionParameters(curr_wp, num_wps, tac, cruise_speed, big_p_gain, small_p_gain, steer_i_gain, thrust_p_gain, trans_thresh, rough_sea, brownout_thresh, sat_update, exit_sf_md_time, lead_distance):\n",
    "    string = \"FFBF\"\n",
    "    string+=(binascii.hexlify((curr_wp).to_bytes(4, signed=True, byteorder='little')).decode())\n",
    "    string+=(binascii.hexlify((num_wps).to_bytes(4, signed=True, byteorder='little')).decode())\n",
    "    string+=(binascii.hexlify((tac).to_bytes(4, signed=True, byteorder='little')).decode())\n",
    "    string+=(binascii.hexlify((cruise_speed).to_bytes(4, signed=True, byteorder='little')).decode())\n",
    "    string+=(binascii.hexlify((big_p_gain).to_bytes(4, signed=True, byteorder='little')).decode())\n",
    "    string+=(binascii.hexlify((small_p_gain).to_bytes(4, signed=True, byteorder='little')).decode())\n",
    "    string+=(binascii.hexlify((steer_i_gain).to_bytes(4, signed=True, byteorder='little')).decode())\n",
    "    string+=(binascii.hexlify((thrust_p_gain).to_bytes(4, signed=True, byteorder='little')).decode())\n",
    "    string+=(binascii.hexlify((trans_thresh).to_bytes(4, signed=True, byteorder='little')).decode())\n",
    "    string+=(binascii.hexlify((rough_sea).to_bytes(4, signed=True, byteorder='little')).decode())\n",
    "    string+=(binascii.hexlify((brownout_thresh).to_bytes(4, signed=True, byteorder='little')).decode())\n",
    "    string+=(binascii.hexlify((sat_update).to_bytes(4, signed=True, byteorder='little')).decode())\n",
    "    string+=(binascii.hexlify((exit_sf_md_time).to_bytes(4, signed=True, byteorder='little')).decode())\n",
    "    string+=(binascii.hexlify((lead_distance).to_bytes(4, signed=True, byteorder='little')).decode())\n",
    "    string+=(\"FE\")\n",
    "    return string"
   ]
  },
  {
   "cell_type": "code",
   "execution_count": 14,
   "id": "8e1e2177-00c3-45a5-bc40-23ac36575f5a",
   "metadata": {},
   "outputs": [],
   "source": [
    "# call this to send a force mode change message\n",
    "def forceModeChange(num):\n",
    "    return \"FFCA\" + str((hex(num))[2:]).zfill(2) + \"FE\"\n"
   ]
  },
  {
   "cell_type": "code",
   "execution_count": 15,
   "id": "ac004cab-d3d5-4819-8e91-4c61336a59aa",
   "metadata": {},
   "outputs": [],
   "source": [
    "def unpackGeneralUpdate(input):\n",
    "    state_vector = unpackStateVector(input[0:34*2])\n",
    "    battery_vector = unpackBatteryVector(input[34*2:68*2])\n",
    "    control_vector = unpackControllerStateVector(input[68*2:(68+19)*2])\n",
    "    gps1 = unpackStateVector(input[(68+19)*2:(102+19)*2])\n",
    "    gps2 = unpackStateVector(input[(102+19)*2:(136+19)*2])\n",
    "    wp = unpackWaypoint(input[(136+19)*2:(170+19)*2])\n",
    "\n",
    "    print(state_vector)\n",
    "    print(battery_vector)\n",
    "    print(control_vector)\n",
    "    print(gps1)\n",
    "    print(gps2)\n",
    "    print(wp)\n",
    "    \n",
    "    "
   ]
  },
  {
   "cell_type": "code",
   "execution_count": 16,
   "id": "19a8d5c0-6c4a-436b-9e13-e163acde1f27",
   "metadata": {},
   "outputs": [
    {
     "name": "stdout",
     "output_type": "stream",
     "text": [
      "[39.3251539, -76.6233111, 0.016, 229.94823, 3.88827, -0.12578, 0, 1.27]\n",
      "[24.16, -0.65, 0, 0, 0, 0, 0, 0]\n",
      "[-100, 75, -3, 12474174]\n",
      "[39.3251667, -76.6232992, 0.022, 255.21727, 4.37812, -1.08749, 0, 1.16]\n",
      "[39.3251412, -76.6233231, 0.01, 204.6177, 3.39843, 0.83593, 0, 1.4]\n",
      "[39.2531741, -76.4894198, 50, 1, 100.0]\n"
     ]
    }
   ],
   "source": [
    "# For a received message:\n",
    "#   Unpack received message from a general update\n",
    "\n",
    "input = \"ffabd38a7017e93554d21000000087df5e01dbee0500deceffff000000007f000000ffab70090000bfffffff000000000000000000000000000000000000000000000000ffac9cffffff4b000000fdffffff3e57be00feffaa538b7017603654d2160000003f6e850134ae06003357feff0000000074000000ffaa548a7017713554d20a000000ca383801832f050089460100000000008c000000ffae1d8f65170aa468d23200000001000000a0860100fe07\"\n",
    "unpackGeneralUpdate(input)"
   ]
  },
  {
   "cell_type": "code",
   "execution_count": 17,
   "id": "5562c132-7eb8-4539-813c-0a5b11628ab4",
   "metadata": {},
   "outputs": [
    {
     "name": "stdout",
     "output_type": "stream",
     "text": [
      "FFBF000000000100000000000000a00f00000a0000000a0000000a0000006400000060e3160040420f00c008000040771b000000000032000000FE\n"
     ]
    }
   ],
   "source": [
    "# For formatting a message to send:\n",
    "#   Format a mission parameter update message\n",
    "\n",
    "curr_wp = 0\n",
    "num_wps = 1\n",
    "tac = 0 # time at current\n",
    "cruise_speed = 4000\n",
    "big_p_gain = int(1E-5*1E6)\n",
    "small_p_gain = int(1E-5*1E6)\n",
    "steer_i_gain = int(1E-6*1E7)\n",
    "thrust_p_gain = int(0.1*1E3)\n",
    "trans_thresh = int(15E5)\n",
    "rough_sea = 1000000\n",
    "brownout_thresh = 2240\n",
    "sat_update = 1800000\n",
    "exit_sf_md_time = 0\n",
    "lead_distance = 50\n",
    "\n",
    "print(packChangeMissionParameters(curr_wp, num_wps, tac, cruise_speed, big_p_gain, small_p_gain, steer_i_gain, thrust_p_gain, trans_thresh, rough_sea, brownout_thresh, sat_update, exit_sf_md_time, lead_distance))"
   ]
  },
  {
   "cell_type": "code",
   "execution_count": 18,
   "id": "04a5d520-a0d1-455a-92d4-5ddcea9946f6",
   "metadata": {},
   "outputs": [
    {
     "name": "stdout",
     "output_type": "stream",
     "text": [
      "[0, 1, 0, 4000, 10, 10, 100, 1500000, 1000000, 2240, 1800000, 0, 50]\n"
     ]
    }
   ],
   "source": [
    "# For formatting a message to send:\n",
    "#   Unpack a mission parameter receipt\n",
    "\n",
    "print(unpackMissionParameters(\"FFBF000000000100000000000000a00f00000a0000000a0000000a0000006400000060e3160040420f00c008000040771b000000000032000000FE\"))"
   ]
  },
  {
   "cell_type": "code",
   "execution_count": 19,
   "id": "d42c5698-8d62-478f-9839-9a06f98b8e5c",
   "metadata": {},
   "outputs": [
    {
     "name": "stdout",
     "output_type": "stream",
     "text": [
      "[]\n"
     ]
    }
   ],
   "source": [
    "# For a received message:\n",
    "#   Unpack a waypoint list receipt\n",
    "\n",
    "print(unpackWaypointList(\"fead0020ffffff7f00000000276a08002c7f082052000000a77608002c7f082003000000f9ffffff841a072042320900e8030000a776080003000000f9550800a6760800000000212c7f08200300000000000000915608002c7f0820395708002c7f08209f910000000000002c7f08200c7e0820b8020000137e0820030000009b91000000000000107e0820df5d080085310900107e08202c7f0820d3750000c37e08200c7e0820107e0820c37e0820b30000004b6008008a7d08208c7d08208e7d08203ea75d3f73c95701000037000100000088190720d13109007d73080065730800d1310900881907202c7f08200c7e0820ad730800f821072088190720\"))"
   ]
  },
  {
   "cell_type": "code",
   "execution_count": 23,
   "id": "7b5d9a42-8298-498d-93b7-c0b94b03b0ad",
   "metadata": {},
   "outputs": [
    {
     "name": "stdout",
     "output_type": "stream",
     "text": [
      "FFBD01e9967017976154d2320000000000000001000000FE\n"
     ]
    }
   ],
   "source": [
    "# For formatting a message to send:\n",
    "#   Format a waypoint update message\n",
    "\n",
    "num = 1\n",
    "lat = int(39.3254633*1E7)\n",
    "lon = int(-76.6221929*1E7)\n",
    "radius = 50\n",
    "type = 0\n",
    "tos = 1\n",
    "\n",
    "print(packChangeWaypoint(num, lat, lon, radius, type, tos))"
   ]
  },
  {
   "cell_type": "code",
   "execution_count": 22,
   "id": "eea0b424-d657-491f-b37f-d035dd11c26b",
   "metadata": {},
   "outputs": [
    {
     "name": "stdout",
     "output_type": "stream",
     "text": [
      "[39.3254633, -76.6221929, 50, 0, 0.0]\n"
     ]
    }
   ],
   "source": [
    "# For a received message:\n",
    "#   Unpack a single waypoint receipt\n",
    "\n",
    "print(unpackWaypoint(\"ffaee9967017976154d2320000000000000000000000fe\"))"
   ]
  }
 ],
 "metadata": {
  "kernelspec": {
   "display_name": "Python 3 (ipykernel)",
   "language": "python",
   "name": "python3"
  },
  "language_info": {
   "codemirror_mode": {
    "name": "ipython",
    "version": 3
   },
   "file_extension": ".py",
   "mimetype": "text/x-python",
   "name": "python",
   "nbconvert_exporter": "python",
   "pygments_lexer": "ipython3",
   "version": "3.11.5"
  }
 },
 "nbformat": 4,
 "nbformat_minor": 5
}
